{
 "cells": [
  {
   "cell_type": "markdown",
   "metadata": {},
   "source": [
    "## Welcome to your challenge on Data Visualization using Matplotlib \n",
    "- In this task you willbe asked to draw bar plots using matplotlib.\n",
    "- Your plots must match with the expected plots provided in each task. \n",
    "- Add extra cells for coding if necessary."
   ]
  },
  {
   "cell_type": "markdown",
   "metadata": {},
   "source": [
    "### Run the below cell to install the neccessary package"
   ]
  },
  {
   "cell_type": "code",
   "execution_count": null,
   "metadata": {},
   "outputs": [],
   "source": [
    "import numpy as np \n",
    "import matplotlib.pyplot as plt \n",
    "import pickle"
   ]
  },
  {
   "cell_type": "markdown",
   "metadata": {},
   "source": [
    "### Perform apropriate given operations in the below function bar_plot -\n",
    "\n",
    "        - Create a figure of size 10 inches in width, and 6 inches in height. Name it as `fig`.\n",
    "        - Create an axis with values 111, associated with figure `fig`,  using `add_subplot`. Name it as `ax`.\n",
    "        - Create a list `Team` with values `\"Detroit\",\"NY Mets\",\"Washington\",\"Arizona\",\"Texas\"`.\n",
    "        - Create a list `Games_Played` with values `86,87,87,88,88`.\n",
    "        - Label X-Axis as `Teams`.\n",
    "        - Label Y-Axis as `Matches Played`.\n",
    "        - Set Title as `Matches Played By Each Team`.\n",
    "        - Set ticks on X-Axis at 0, 1, 2 , 3 and 4.\n",
    "        - Set X-Axis tick labels to `\"Detroit\",\"NY Mets\",\"Washington\",\"Arizona\",\"Texas\"`\n",
    "        - Set ticks on Y-Axis at 20,40,60,80,100\n",
    "        - Draw a bar plot using `bar` function, such that height of each vertical bar show Games Played by each Team. \n",
    "        - Use `Team` and `Games_Played` as variables. Set bar width to be `0.5`, color to be `brown`, and border color of             bar to be `black`.\n",
    "        - Return the plot ax.\n",
    "        \n",
    " ### Expected plot\n",
    "<img src=\"expected_plots/plot1.png\">"
   ]
  },
  {
   "cell_type": "code",
   "execution_count": null,
   "metadata": {},
   "outputs": [],
   "source": [
    "def bar_plot():\n",
    "    \n",
    "    \n",
    "    \n",
    "    \n",
    "    \n",
    "    \n",
    "    "
   ]
  },
  {
   "cell_type": "markdown",
   "metadata": {},
   "source": [
    "### Perform apropriate given operations in the below function hbar_plot -\n",
    "\n",
    "        - Create a figure of size 10 inches in width, and 6 inches in height. Name it as `fig`.\n",
    "        - Create an axis with values 111, associated with figure `fig`,  using `add_subplot`. Name it as `ax1`.\n",
    "        - Create a list `Team` with values `\"Detroit\",\"NY Mets\",\"Washington\",\"Arizona\",\"Texas\"`.\n",
    "        - Create a list `At_Bats` with values `343,275,161,267,308`.\n",
    "        - Label X-Axis as `At Bats`.\n",
    "        - Label Y-Axis as `Teams`.\n",
    "        - Set Title as `At Bats By Each Team`.\n",
    "        - Set ticks on X-Axis at 0, 1, 2 , 3 and 4.\n",
    "        - Set X-Axis tick labels to `\"Detroit\",\"NY Mets\",\"Washington\",\"Arizona\",\"Texas\"`.\n",
    "        - Set ticks on Y-Axis at 0,1,2,3,4.\n",
    "        - Draw a horizontal bar plot using `bar` function, such that width of each bar show At Bats of each Team. \n",
    "        - Use `Team` and `At_Bats` as variables. Set bar height to be `0.5`, color to be `Grey`, and border color of bar to           be `black`.\n",
    "        - Return the plot ax1.\n",
    " ### Expected plot\n",
    "<img src=\"expected_plots/plot2.png\">"
   ]
  },
  {
   "cell_type": "code",
   "execution_count": null,
   "metadata": {},
   "outputs": [],
   "source": [
    "def hbar_plot():\n",
    "    \n",
    "    \n",
    "    \n",
    "    \n",
    "    \n",
    "    "
   ]
  },
  {
   "cell_type": "markdown",
   "metadata": {},
   "source": [
    "### Assign the function bar_plot to the variable ax and run the cell"
   ]
  },
  {
   "cell_type": "code",
   "execution_count": null,
   "metadata": {
    "scrolled": true
   },
   "outputs": [],
   "source": [
    "ax ="
   ]
  },
  {
   "cell_type": "markdown",
   "metadata": {},
   "source": [
    "### Assign the function hbar_plot to the variable ax1 and run the cell"
   ]
  },
  {
   "cell_type": "code",
   "execution_count": null,
   "metadata": {},
   "outputs": [],
   "source": [
    "ax1 ="
   ]
  },
  {
   "cell_type": "markdown",
   "metadata": {},
   "source": [
    "### Run this cell to dump the plot objects into pickle files for validation\n"
   ]
  },
  {
   "cell_type": "code",
   "execution_count": null,
   "metadata": {},
   "outputs": [],
   "source": [
    "with open(\"plot1.pickle\", \"wb\") as file:\n",
    "    pickle.dump(ax, file)\n",
    "\n",
    "with open(\"plot2.pickle\", \"wb\") as file:\n",
    "    pickle.dump(ax1, file)"
   ]
  },
  {
   "cell_type": "code",
   "execution_count": null,
   "metadata": {},
   "outputs": [],
   "source": []
  }
 ],
 "metadata": {
  "kernelspec": {
   "display_name": "Python 3",
   "language": "python",
   "name": "python3"
  },
  "language_info": {
   "codemirror_mode": {
    "name": "ipython",
    "version": 3
   },
   "file_extension": ".py",
   "mimetype": "text/x-python",
   "name": "python",
   "nbconvert_exporter": "python",
   "pygments_lexer": "ipython3",
   "version": "3.6.5"
  }
 },
 "nbformat": 4,
 "nbformat_minor": 2
}
